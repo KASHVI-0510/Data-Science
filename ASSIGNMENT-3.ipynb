{
 "cells": [
  {
   "cell_type": "code",
   "execution_count": null,
   "id": "c3fac907",
   "metadata": {},
   "outputs": [
    {
     "name": "stdout",
     "output_type": "stream",
     "text": [
      "Enter the id:69433\n",
      "(69433, 'Heena', 'Henna@nuv.ac.in')\n"
     ]
    }
   ],
   "source": [
    "# Write a python program to access following data structure data=[(12345,\"Diksha\",\"Diksha r@nuv.ac.in\"),(45667,\"Jiva\",\"Jiva@nuv.ac.in\"),(16789,\"Ronit\",\"Ronitd@nuv.ac.in\"),(69433,\"Heena\",\"Henna@nuv.ac.in\")]\n",
    "\n",
    "data=[(12345,\"Diksha\",\"Diksha r@nuv.ac.in\"),(45667,\"Jiva\",\"Jiva@nuv.ac.in\"),(16789,\"Ronit\",\"Ronitd@nuv.ac.in\"),(69433,\"Heena\",\"Henna@nuv.ac.in\")]\n",
    "id=int(input(\"Enter the id:\"))\n",
    "if(id==12345):\n",
    "    print(data[0])\n",
    "elif(id==45667):\n",
    "    print(data[1])\n",
    "elif(id==16789):\n",
    "    print(data[2])\n",
    "elif(id==69433):\n",
    "    print(data[3])\n",
    "else:\n",
    "    print(\"Not defined\")\n",
    "    \n",
    "name=int(input(\"Enter the name:\"))\n",
    "if(name==\"Diksha\"):\n",
    "    print(data[0])\n",
    "elif(name==\"Jiva\"):\n",
    "    print(data[1])\n",
    "elif(name==\"Ronit\"):\n",
    "    print(data[2])\n",
    "elif(name==\"Heena\"):\n",
    "    print(data[3])\n",
    "else:\n",
    "    print(\"Not defined\")\n",
    "    \n",
    "  \n",
    "        "
   ]
  },
  {
   "cell_type": "code",
   "execution_count": 14,
   "id": "96da66a0",
   "metadata": {},
   "outputs": [
    {
     "name": "stdout",
     "output_type": "stream",
     "text": [
      "Enter id to search12345\n",
      "Student is 12345  name Diksha email address Diksha r@nuv.ac.in\n",
      "Enter name to searchJiva\n",
      "Student is 45667  name Jiva email address Jiva@nuv.ac.in\n"
     ]
    }
   ],
   "source": [
    "data = [\n",
    "    (12345,\"Diksha\",\"Diksha r@nuv.ac.in\"),\n",
    "    (45667,\"Jiva\",\"Jiva@nuv.ac.in\"),\n",
    "    (16789,\"Ronit\",\"Ronitd@nuv.ac.in\"),\n",
    "    (69433,\"Heena\",\"Henna@nuv.ac.in\")\n",
    "    ]\n",
    "def searchbyId(uid):\n",
    "    for tup in data:\n",
    "        if tup[0]==uid:\n",
    "            sid=tup[0]\n",
    "            sname=tup[1]\n",
    "            semail=tup[2]\n",
    "            print(f'Student is {sid}  name {sname} email address {semail}')\n",
    "            \n",
    "uid=int(input(\"Enter id to search\"))\n",
    "searchbyId(uid)       \n",
    "\n",
    "\n",
    "def searchbyname(uname):\n",
    "    for tup in data:\n",
    "        if tup[1]==uname:\n",
    "            sid=tup[0]\n",
    "            sname=tup[1]\n",
    "            semail=tup[2]\n",
    "            print(f'Student is {sid}  name {sname} email address {semail}')\n",
    "            \n",
    "uname=input(\"Enter name to search\")\n",
    "searchbyname(uname) "
   ]
  },
  {
   "cell_type": "code",
   "execution_count": 69,
   "id": "ea64120f",
   "metadata": {
    "scrolled": true
   },
   "outputs": [
    {
     "name": "stdout",
     "output_type": "stream",
     "text": [
      "Enter id to search:69433\n",
      "69433          Heena          Heena@nuv.ac.in          \n",
      "Enter name:Diksha\n",
      "12345          Diksha         Diksha r@nuv.ac.in       \n"
     ]
    }
   ],
   "source": [
    "# Mydict = {\"Enrollment Id\":[12345,45667,16789,69433],\"Student Name:[\"Diksha\",\"Jiva\",\"Ronit\",\"Heena\"],[\"Email Id\":[\"Diksha r@nuv.ac.in\",\"Jiva@nuv.ac.in\",\"Ronitd@nuv.ac.in\",\"Heena@nuv.ac.in\"]print(f\"{enrolid:<7}{sname:12}{emailid:25}}\")\n",
    "\n",
    "Mydict =  {\"Enrollment Id\":[12345,45667,16789,69433],\n",
    "          \"Student Name\":[\"Diksha\",\"Jiva\",\"Ronit\",\"Heena\"],\n",
    "          \"Email Id\":[\"Diksha r@nuv.ac.in\",\"Jiva@nuv.ac.in\",\"Ronitd@nuv.ac.in\",\"Heena@nuv.ac.in\"]}\n",
    "          \n",
    "def search(value):\n",
    "    for dc in Mydict:\n",
    "         if value in Mydict[dc]: \n",
    "                i=Mydict[dc].index(value)\n",
    "                enrolid=Mydict[\"Enrollment Id\"][i]\n",
    "                sname=Mydict[\"Student Name\"][i]\n",
    "                emailid=Mydict[\"Email Id\"][i]\n",
    "                print(f\"{enrolid:<15}{sname:<15}{emailid:<25}\")\n",
    "\n",
    "value = int(input(\"Enter id to search:\"))\n",
    "search(value)\n",
    "\n",
    "value = (input(\"Enter name:\"))\n",
    "search(value)\n"
   ]
  },
  {
   "cell_type": "code",
   "execution_count": 2,
   "id": "7ae82281",
   "metadata": {},
   "outputs": [
    {
     "name": "stdout",
     "output_type": "stream",
     "text": [
      "Enrollment Id  Student Name   Email Id       \n",
      "12345           Diksha               Dikshar@nuv.ac.in             \n",
      "45667           Jiva                 Jiva@nuv.ac.in                \n",
      "16789           Ronit                Ronit@nuv.ac.in               \n",
      "69433           Heena                Heena@nuv.ac.in               \n"
     ]
    }
   ],
   "source": [
    "data = [\n",
    "        (12345, \"Diksha\", \"Dikshar@nuv.ac.in\"),\n",
    "        (45667, \"Jiva\", \"Jiva@nuv.ac.in\"),\n",
    "        (16789, \"Ronit\", \"Ronit@nuv.ac.in\"),\n",
    "        (69433, \"Heena\", \"Heena@nuv.ac.in\")\n",
    "    ]\n",
    "\n",
    "final_dict = {\"Enrollment Id\": [], \"Student Name\": [], \"Email Id\": []}\n",
    "\n",
    "for j in data:\n",
    "        final_dict[\"Enrollment Id\"].append(j[0])\n",
    "        final_dict[\"Student Name\"].append(j[1])\n",
    "        final_dict[\"Email Id\"].append(j[2])\n",
    "final_dict\n",
    "print(f\"{'Enrollment Id':<15}{'Student Name':<15}{'Email Id':<15}\")\n",
    "for i in range(len(final_dict[\"Enrollment Id\"])):\n",
    "    enrollment_id=final_dict[\"Enrollment Id\"][i]\n",
    "    student_name=final_dict[\"Student Name\"][i]\n",
    "    email_id=final_dict[\"Email Id\"][i]\n",
    "    print(\"{:<15} {:<20} {:<30}\".format(enrollment_id,student_name,email_id))"
   ]
  },
  {
   "cell_type": "code",
   "execution_count": 4,
   "id": "7675ee41",
   "metadata": {},
   "outputs": [
    {
     "name": "stdout",
     "output_type": "stream",
     "text": [
      "{'Enrollment id:': [12345, 45667, 16789, 68433], 'Student Name': ['Diksha', 'Jiva', 'Ronit', 'Heena'], 'Email Id': ['Diksha r@nuv.ac.in', 'Jiva@nuv.ac.in', 'Ronit@nuv.ac.in', 'Heena@nuv.ac.in']}\n"
     ]
    }
   ],
   "source": [
    "import json\n",
    "fw=open(\"students.json\",\"w\")\n",
    "jsdata = json.dumps({'Enrollment id:':[12345,45667,16789,68433], 'Student Name': ['Diksha', 'Jiva', 'Ronit', 'Heena'], 'Email Id' :['Diksha r@nuv.ac.in', 'Jiva@nuv.ac.in', 'Ronit@nuv.ac.in', 'Heena@nuv.ac.in']})\n",
    "fw.write(jsdata)\n",
    "fr=open(\"students.json\",\"r\")\n",
    "allStudents=json.load(fr)\n",
    "print(allStudents)\n",
    "\n",
    "for i in range:\n",
    "    "
   ]
  },
  {
   "cell_type": "code",
   "execution_count": null,
   "id": "b4fae09b",
   "metadata": {},
   "outputs": [],
   "source": []
  }
 ],
 "metadata": {
  "kernelspec": {
   "display_name": "Python 3 (ipykernel)",
   "language": "python",
   "name": "python3"
  },
  "language_info": {
   "codemirror_mode": {
    "name": "ipython",
    "version": 3
   },
   "file_extension": ".py",
   "mimetype": "text/x-python",
   "name": "python",
   "nbconvert_exporter": "python",
   "pygments_lexer": "ipython3",
   "version": "3.9.12"
  }
 },
 "nbformat": 4,
 "nbformat_minor": 5
}
